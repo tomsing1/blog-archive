{
  "nbformat": 4,
  "nbformat_minor": 0,
  "metadata": {
    "colab": {
      "name": "2021-01-18-Batch-downloading-BDGP-images.ipynb",
      "provenance": [],
      "collapsed_sections": []
    },
    "kernelspec": {
      "name": "python3",
      "display_name": "Python 3"
    },
    "accelerator": "GPU"
  },
  "cells": [
    {
      "cell_type": "markdown",
      "metadata": {
        "id": "SbE1bpNmLtdG"
      },
      "source": [
        "# Batch downloading thumbnail images from the BDGP FTP server\n",
        "> Python code to select and copy images from the BDGP FTP server and\n",
        "store them on gDrive.\n",
        "\n",
        "- toc: true\n",
        "- branch: master\n",
        "- badges: true\n",
        "- comments: true\n",
        "- author: Thomas Sandmann\n",
        "- categories: [BDGP, python, colab, gDrive]"
      ]
    },
    {
      "cell_type": "code",
      "metadata": {
        "id": "YDqqgcETg5R-"
      },
      "source": [
        "from functools import lru_cache\n",
        "import os\n",
        "import random\n",
        "import urllib\n",
        "import pandas as pd\n",
        "from pathlib import Path\n",
        "from google.colab import drive\n",
        "from PIL import Image"
      ],
      "execution_count": 1,
      "outputs": []
    },
    {
      "cell_type": "code",
      "metadata": {
        "colab": {
          "base_uri": "https://localhost:8080/"
        },
        "id": "Pp2nA6QWv2Wp",
        "outputId": "dc26774d-a5e8-48d7-a077-5a861a82dc54"
      },
      "source": [
        "# mount gDrive for persistent storage as outlined here:\n",
        "# https://colab.research.google.com/notebooks/io.ipynb#scrollTo=RWSJpsyKqHjH\n",
        "drive.mount('/content/drive', force_remount=True)\n",
        "# and create a subdirectory to store the files for this project\n",
        "!mkdir -p /content/drive/My\\ Drive/colab_data/bdgp\n",
        "# then make it the working directory\n",
        "%cd /content/drive/My\\ Drive/colab_data/bdgp"
      ],
      "execution_count": 2,
      "outputs": [
        {
          "output_type": "stream",
          "text": [
            "Mounted at /content/drive\n",
            "/content/drive/My Drive/colab_data/bdgp\n"
          ],
          "name": "stdout"
        }
      ]
    },
    {
      "cell_type": "markdown",
      "metadata": {
        "id": "er4a0QfCt8nS"
      },
      "source": [
        "## Batch downloading images\n",
        "\n",
        "To download a specific subset of *in situ* hybridization images from the BDGP FTP server, I first download the image metadata file (in CSV format)\n",
        "and store it in this project's directory on gDrive.\n",
        "\n",
        "To avoid re-downloading the same images, I set the `download_images` variable here:"
      ]
    },
    {
      "cell_type": "code",
      "metadata": {
        "id": "RL-NELhBKVNm"
      },
      "source": [
        "download_images = False"
      ],
      "execution_count": 3,
      "outputs": []
    },
    {
      "cell_type": "code",
      "metadata": {
        "id": "876UHyqkt_wD"
      },
      "source": [
        "\n",
        "@lru_cache(maxsize=None)\n",
        "def retrieve_image_metadata(path=None):\n",
        "  \"Load BDGP metadata from a local (cached) or remote CSV file\"\n",
        "  server = \"https://insitu.fruitfly.org/\"\n",
        "  if path and os.path.isfile(path):\n",
        "    print(f\"Reading image metadata from cached file {path}.\") \n",
        "    images = pd.read_csv(path)\n",
        "  else:\n",
        "    image_metadata = server + \"insitu-mysql-dump/insitu_images.csv.gz\"\n",
        "    print(f\"Downloading image metadata from {image_metadata}.\") \n",
        "\n",
        "    images = pd.read_csv(image_metadata, header=None, compression=\"gzip\",\n",
        "                         encoding=\"latin1\", index_col=False,\n",
        "                         names=['id','symbol', 'annotation_symbol',\n",
        "                              'FBgn', 'cDNA_clone', 'path', 'stage', 'pov',\n",
        "                               'comment', 'resolution'])\n",
        "    if path:\n",
        "      print(f\"Caching metadata as {path}.\")\n",
        "      images.to_csv(path)\n",
        "  images[\"stage\"] = images[\"stage\"].astype('category')\n",
        "  images = images[images.path.notna()]  \n",
        "  return images\n",
        "\n",
        "def retrieve_images(paths, outdir, ftp_root='ftp://ftp.fruitfly.org/pub/'\n",
        "                     'insitu_image_storage/thumbnails/'):\n",
        "  \"Copy an impages from the BDGP FTP server to the output directory\"\n",
        "  outdir = Path(outdir)\n",
        "  os.makedirs(outdir, exist_ok=True)\n",
        "  for path in paths:\n",
        "    try:\n",
        "      response = urllib.request.urlopen(ftp_root + path).read()\n",
        "      path = Path(path).name\n",
        "      with open(outdir / path, 'wb') as handler:\n",
        "        handler.write(response)  \n",
        "    except urllib.error.HTTPError as e:\n",
        "      print(f'{path.name}: HTTPError: {e.code}')\n",
        "      next()\n",
        "    except:\n",
        "      print(path)\n",
        "      next()\n",
        "\n",
        "    "
      ],
      "execution_count": 4,
      "outputs": []
    },
    {
      "cell_type": "markdown",
      "metadata": {
        "id": "D8x-gXezMf7i"
      },
      "source": [
        "With the two functions to 1) load the metadata DataFrame and 2) copy images from the BDGP's FTP server to my gDrive folder in place, I am ready to retrieve a small subset of the available dataset: I random select 200 lateral thumbnails from both 1) *early* and 2) *late* stage embryos. These images can serve as a first step for my image analysis journey and I copy them to my project's gDrive folder."
      ]
    },
    {
      "cell_type": "code",
      "metadata": {
        "colab": {
          "base_uri": "https://localhost:8080/"
        },
        "id": "-p-5vG3L2tpQ",
        "outputId": "53753d8d-8cac-4c0d-9380-01f0e37adfad"
      },
      "source": [
        "metadata = retrieve_image_metadata('insitu_images.csv.gz')\n",
        "stage1 = metadata \\\n",
        "  .query('stage == 1 and resolution == \"low\" and pov == \"lateral\"') \\\n",
        "  .sample(200, random_state=123) \\\n",
        "  .path \\\n",
        "  .tolist()\n",
        "stage6 = metadata \\\n",
        "  .query('stage == 6 and resolution == \"low\" and pov == \"lateral\"') \\\n",
        "  .sample(200, random_state=123) \\\n",
        "  .path \\\n",
        "  .tolist()"
      ],
      "execution_count": 5,
      "outputs": [
        {
          "output_type": "stream",
          "text": [
            "Reading image metadata from cached file insitu_images.csv.gz.\n"
          ],
          "name": "stdout"
        }
      ]
    },
    {
      "cell_type": "code",
      "metadata": {
        "id": "4tfHcMKlu8_N"
      },
      "source": [
        "if download_images:\n",
        "  retrieve_images(stage1, outdir=\"thumbnails/stage1\")\n",
        "  retrieve_images(stage6, outdir=\"thumbnails/stage6\")"
      ],
      "execution_count": 6,
      "outputs": []
    },
    {
      "cell_type": "markdown",
      "metadata": {
        "id": "8NnRoechM1rw"
      },
      "source": [
        "Let's take a quick peek at a random image from each class, e.g. one early-stage and one late-stage embryo:"
      ]
    },
    {
      "cell_type": "code",
      "metadata": {
        "colab": {
          "base_uri": "https://localhost:8080/",
          "height": 130
        },
        "id": "_bACuJHEIScE",
        "outputId": "4cd4bb1d-bd39-4004-fa8a-7b2f8df3fe57"
      },
      "source": [
        "random.seed(123)\n",
        "Image.open(Path(\"thumbnails/stage1\") / Path(random.choice(stage1)).name)"
      ],
      "execution_count": 7,
      "outputs": [
        {
          "output_type": "execute_result",
          "data": {
            "image/png": "[encoded data removed]",
            "text/plain": [
              "<PIL.JpegImagePlugin.JpegImageFile image mode=RGB size=150x113 at 0x7FBF0A87BE10>"
            ]
          },
          "metadata": {
            "tags": []
          },
          "execution_count": 7
        }
      ]
    },
    {
      "cell_type": "code",
      "metadata": {
        "colab": {
          "base_uri": "https://localhost:8080/",
          "height": 130
        },
        "id": "IbZUgXIzIcIE",
        "outputId": "82995e18-8a38-4a43-a2c2-f8f467fa77e4"
      },
      "source": [
        "random.seed(123)\n",
        "Image.open(Path(\"thumbnails/stage6\") / Path(random.choice(stage6)).name)"
      ],
      "execution_count": 8,
      "outputs": [
        {
          "output_type": "execute_result",
          "data": {
            "image/png": "[encoded data removed]",
            "text/plain": [
              "<PIL.JpegImagePlugin.JpegImageFile image mode=RGB size=150x113 at 0x7FBF094B0AC8>"
            ]
          },
          "metadata": {
            "tags": []
          },
          "execution_count": 8
        }
      ]
    }
  ]
}